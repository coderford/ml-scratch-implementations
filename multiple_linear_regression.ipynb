{
 "cells": [
  {
   "cell_type": "markdown",
   "id": "fc771d5d",
   "metadata": {},
   "source": [
    "## Problem\n",
    "\n",
    "Write multiple linear regression algorithm (k independent vars, 1 dependent var)\n",
    "\n",
    "- **Input**: X (shape N * k), y (shape N * 1)\n",
    "- **Output**: Regressor/Predictor that can predict for unseen samples from X"
   ]
  },
  {
   "cell_type": "code",
   "execution_count": 1,
   "id": "2993eeac",
   "metadata": {},
   "outputs": [],
   "source": [
    "## Imports\n",
    "import numpy as np\n",
    "import matplotlib.pyplot as plt\n",
    "%matplotlib inline"
   ]
  },
  {
   "cell_type": "code",
   "execution_count": 7,
   "id": "348ba386",
   "metadata": {},
   "outputs": [
    {
     "name": "stdout",
     "output_type": "stream",
     "text": [
      "Expected minimum MSE: 85.7671\n"
     ]
    }
   ],
   "source": [
    "## Data setup\n",
    "N = 30\n",
    "k = 4\n",
    "X = np.random.uniform(0, 10, size=(N, k))\n",
    "\n",
    "X_aug = np.hstack([np.ones((N, 1)), X])\n",
    "W_true = np.random.uniform(0, 5, size=(k + 1, 1))\n",
    "y = X_aug @ W_true + np.random.normal(loc=0, scale=2, size=(N, 1))\n",
    "\n",
    "## MSE for reference\n",
    "y_true = X_aug @ W_true\n",
    "mse = np.sum(np.square(y_true - y))\n",
    "print(f\"Expected minimum MSE: {mse:.4f}\")"
   ]
  },
  {
   "cell_type": "markdown",
   "id": "2ddaf48e",
   "metadata": {},
   "source": [
    "## Solution/Implementation"
   ]
  },
  {
   "cell_type": "code",
   "execution_count": 9,
   "id": "6d402fe1",
   "metadata": {},
   "outputs": [],
   "source": [
    "N, k = X.shape\n",
    "X_aug = np.hstack([np.ones((N, 1)), X])\n",
    "W = np.linalg.inv(X_aug.T @ X_aug) @ X_aug.T @ y"
   ]
  },
  {
   "cell_type": "code",
   "execution_count": 10,
   "id": "f762386a",
   "metadata": {},
   "outputs": [
    {
     "name": "stdout",
     "output_type": "stream",
     "text": [
      "Prediction MSE: 79.0716\n"
     ]
    }
   ],
   "source": [
    "y_pred = X_aug @ W\n",
    "mse = np.sum(np.square(y_pred - y))\n",
    "print(f\"Prediction MSE: {mse:.4f}\")"
   ]
  }
 ],
 "metadata": {
  "kernelspec": {
   "display_name": "Python 3",
   "language": "python",
   "name": "python3"
  },
  "language_info": {
   "codemirror_mode": {
    "name": "ipython",
    "version": 3
   },
   "file_extension": ".py",
   "mimetype": "text/x-python",
   "name": "python",
   "nbconvert_exporter": "python",
   "pygments_lexer": "ipython3",
   "version": "3.12.10"
  }
 },
 "nbformat": 4,
 "nbformat_minor": 5
}
